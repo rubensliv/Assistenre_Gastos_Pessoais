{
 "cells": [
  {
   "cell_type": "markdown",
   "metadata": {
    "id": "tce6br8wUeiX"
   },
   "source": [
    "# 2.7.Assistente de Controle de Despesas"
   ]
  },
  {
   "cell_type": "markdown",
   "metadata": {
    "id": "5cJfE9LCUjW2"
   },
   "source": [
    "### Importações"
   ]
  },
  {
   "cell_type": "code",
   "execution_count": 1,
   "metadata": {
    "executionInfo": {
     "elapsed": 1213,
     "status": "ok",
     "timestamp": 1740608209650,
     "user": {
      "displayName": "Fernando Amaral",
      "userId": "13956145547499510680"
     },
     "user_tz": 180
    },
    "id": "BjeaRIILXtH2"
   },
   "outputs": [],
   "source": [
    "import csv\n",
    "import sys\n",
    "from sklearn.feature_extraction.text import CountVectorizer\n",
    "from sklearn.naive_bayes import MultinomialNB"
   ]
  },
  {
   "cell_type": "markdown",
   "metadata": {
    "id": "NZYy-W9DUlTo"
   },
   "source": [
    "### Classe"
   ]
  },
  {
   "cell_type": "code",
   "execution_count": 2,
   "metadata": {
    "executionInfo": {
     "elapsed": 44,
     "status": "ok",
     "timestamp": 1740610254959,
     "user": {
      "displayName": "Fernando Amaral",
      "userId": "13956145547499510680"
     },
     "user_tz": 180
    },
    "id": "AGtLlUKWXvPU"
   },
   "outputs": [],
   "source": [
    "class ExpenseAssistant:\n",
    "    def __init__(self, training_file='expenses.csv'):\n",
    "        self.expenses = []\n",
    "        self.predicted_expenses = []\n",
    "        self.vectorizer = CountVectorizer()\n",
    "        self.classifier = MultinomialNB()\n",
    "        self._train_classifier(training_file)\n",
    "        self.load_expenses_from_file(training_file)\n",
    "\n",
    "    def _train_classifier(self, training_file):\n",
    "        training_data = []\n",
    "        with open(training_file, mode='r', encoding='utf-8') as csvfile:\n",
    "            reader = csv.DictReader(csvfile)\n",
    "            for row in reader:\n",
    "                description = row.get('description', '').strip()\n",
    "                category = row.get('category', '').strip()\n",
    "                if description and category:\n",
    "                    training_data.append((description, category))\n",
    "        texts, categories = zip(*training_data)\n",
    "        X = self.vectorizer.fit_transform(texts)\n",
    "        self.classifier.fit(X, categories)\n",
    "\n",
    "    def predict_category(self, description):\n",
    "        X_new = self.vectorizer.transform([description])\n",
    "        prediction = self.classifier.predict(X_new)[0]\n",
    "        return prediction\n",
    "\n",
    "    def add_expense(self, amount, description, category=None):\n",
    "        if not category or category.strip() == \"\":\n",
    "            predicted_category = self.predict_category(description)\n",
    "            self.predicted_expenses.append({\"amount\": amount, \"description\": description, \"predicted_category\": predicted_category})\n",
    "            category = predicted_category\n",
    "        self.expenses.append({\"amount\": amount, \"description\": description, \"category\": category})\n",
    "\n",
    "    def load_expenses_from_file(self, file_path):\n",
    "        with open(file_path, mode='r', encoding='utf-8') as csvfile:\n",
    "            reader = csv.DictReader(csvfile)\n",
    "            for row in reader:\n",
    "                amount = float(row['amount'])\n",
    "                description = row['description']\n",
    "                category = row.get('category', '').strip()\n",
    "                self.add_expense(amount, description, category)\n",
    "\n",
    "    def summary(self):\n",
    "        summary = {}\n",
    "        for expense in self.expenses:\n",
    "            summary.setdefault(expense[\"category\"], 0)\n",
    "            summary[expense[\"category\"]] += expense[\"amount\"]\n",
    "\n",
    "        print(\"\\nResumo de gastos:\")\n",
    "        for category, total in summary.items():\n",
    "            print(f\"{category}: R$ {total:.2f}\")\n",
    "\n",
    "        if self.predicted_expenses:\n",
    "            print(\"\\nDespesas cuja categoria foi prevista:\")\n",
    "            for expense in self.predicted_expenses:\n",
    "                print(f\"Descrição: {expense['description']} | Valor: R$ {expense['amount']:.2f} | Categoria prevista: {expense['predicted_category']}\")\n"
   ]
  },
  {
   "cell_type": "markdown",
   "metadata": {
    "id": "26H1wpH1UpHd"
   },
   "source": [
    "### Execução"
   ]
  },
  {
   "cell_type": "code",
   "execution_count": 3,
   "metadata": {
    "colab": {
     "base_uri": "https://localhost:8080/"
    },
    "executionInfo": {
     "elapsed": 38,
     "status": "ok",
     "timestamp": 1740610323379,
     "user": {
      "displayName": "Fernando Amaral",
      "userId": "13956145547499510680"
     },
     "user_tz": 180
    },
    "id": "qsDqsLYoQ0Yj",
    "outputId": "000b25a6-975a-4610-e2df-f524552a66b6"
   },
   "outputs": [
    {
     "name": "stdout",
     "output_type": "stream",
     "text": [
      "\n",
      "Resumo de gastos:\n",
      "Compras: R$ 19046.35\n",
      "Transporte: R$ 13613.91\n",
      "Alimentação: R$ 20266.54\n",
      "Saúde: R$ 18189.74\n",
      "Moradia: R$ 13099.73\n",
      "Educação: R$ 16115.17\n",
      "Outros: R$ 14652.03\n",
      "Lazer: R$ 17787.06\n",
      "\n",
      "Despesas cuja categoria foi prevista:\n",
      "Descrição: Móveis | Valor: R$ 10.10 | Categoria prevista: Compras\n",
      "Descrição: Mercado | Valor: R$ 439.75 | Categoria prevista: Alimentação\n",
      "Descrição: Internet | Valor: R$ 336.66 | Categoria prevista: Moradia\n",
      "Descrição: Mercado | Valor: R$ 225.61 | Categoria prevista: Alimentação\n",
      "Descrição: Gasolina | Valor: R$ 360.36 | Categoria prevista: Transporte\n",
      "Descrição: Padaria | Valor: R$ 52.94 | Categoria prevista: Alimentação\n",
      "Descrição: Óculos | Valor: R$ 466.30 | Categoria prevista: Saúde\n"
     ]
    }
   ],
   "source": [
    "if __name__ == \"__main__\":\n",
    "    assistant = ExpenseAssistant(\"expenses.csv\")\n",
    "    assistant.summary()"
   ]
  }
 ],
 "metadata": {
  "colab": {
   "provenance": []
  },
  "kernelspec": {
   "display_name": "base",
   "language": "python",
   "name": "python3"
  },
  "language_info": {
   "codemirror_mode": {
    "name": "ipython",
    "version": 3
   },
   "file_extension": ".py",
   "mimetype": "text/x-python",
   "name": "python",
   "nbconvert_exporter": "python",
   "pygments_lexer": "ipython3",
   "version": "3.9.12"
  }
 },
 "nbformat": 4,
 "nbformat_minor": 0
}
